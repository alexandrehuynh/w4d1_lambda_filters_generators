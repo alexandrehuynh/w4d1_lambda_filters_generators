{
 "cells": [
  {
   "cell_type": "code",
   "execution_count": 1,
   "id": "ac8549b7-ba98-41c7-8a14-86ee063cb69b",
   "metadata": {
    "tags": []
   },
   "outputs": [],
   "source": [
    "# Max consecutive Nums:\n",
    "\n",
    "# Given a binary array nums, return the maximum number of consecutive 1's in the array.\n",
    " \n",
    "# Example 1:\n",
    "# Input: nums = [1,1,0,1,1,1]\n",
    "# Output: 3\n",
    "# Explanation: The first two digits or the last three digits are consecutive 1s. \n",
    "# The maximum number of consecutive 1s is 3.\n",
    "\n",
    "# Example 2:\n",
    "# Input: nums = [1,0,1,1,0,1]\n",
    "# Output: 2"
   ]
  },
  {
   "cell_type": "code",
   "execution_count": 8,
   "id": "038940bc-d49c-4331-b97d-a6b9f2cadd7a",
   "metadata": {
    "tags": []
   },
   "outputs": [
    {
     "data": {
      "text/plain": [
       "3"
      ]
     },
     "execution_count": 8,
     "metadata": {},
     "output_type": "execute_result"
    }
   ],
   "source": [
    "def find_consecutive_ones(nums):\n",
    "\n",
    "    # max_count\n",
    "    max_count = 0\n",
    "    # count\n",
    "    count = 0\n",
    "\n",
    "    # take the list and parse through\n",
    "    for num in nums:\n",
    "    # we take the count of 1\n",
    "        if num == 1:\n",
    "            count += 1\n",
    "\n",
    "        # if reach 0 or end of the list, compare count to max count\n",
    "        else:\n",
    "            max_count = max(max_count, count)\n",
    "            count = 0\n",
    "\n",
    "    # return max count\n",
    "    return max(max_count, count)\n",
    "\n",
    "nums = [1,1,0,1,1,1]\n",
    "# nums = [1,0,1,1,0,1]\n",
    "\n",
    "find_consecutive_ones(nums)"
   ]
  },
  {
   "cell_type": "code",
   "execution_count": null,
   "id": "a4008e73-2710-4cfc-9ea5-80c85da905a1",
   "metadata": {},
   "outputs": [],
   "source": [
    "# Shortest Word\n",
    "\n",
    "# Given a string of words, return an array of the shortest word(s).\n",
    "# String will never be empty and you do not need to account for different data types.\n",
    "\n",
    "# Example Input: words = \"Will bitcoin take over the world maybe who knows perhaps\"\n",
    "# Example Output: ['the', 'who']\n",
    "\n",
    "# Example Input: words = \"so long and thanks for all the fish\"\n",
    "# Example Output: ['so']\n"
   ]
  },
  {
   "cell_type": "code",
   "execution_count": 17,
   "id": "49587fa5-35b1-4056-ba69-201acd94b208",
   "metadata": {
    "tags": []
   },
   "outputs": [
    {
     "data": {
      "text/plain": [
       "['the', 'who']"
      ]
     },
     "execution_count": 17,
     "metadata": {},
     "output_type": "execute_result"
    }
   ],
   "source": [
    "# split into individual words\n",
    "# len() of each word\n",
    "# list that contains the shortest word\n",
    "# compare new word to current shortest word, replace if shorter\n",
    "# return the shortest word\n",
    "\n",
    "def find_the_shorty(words):\n",
    "    \n",
    "    # split string into list of individual words\n",
    "    words_list = words.split()\n",
    "    shorty = []\n",
    "    # find min() len() of each word and store min length\n",
    "    min_length = min(len(word) for word in words_list)\n",
    "    \n",
    "    \n",
    "    for word in words_list:\n",
    "        # if len of word is equal to min length\n",
    "        if len(word) == min_length:\n",
    "            # add word to list\n",
    "            shorty.append(word)\n",
    "    \n",
    "    # return the shortest word       \n",
    "    return shorty\n",
    "\n",
    "words = \"Will bitcoin take over the world maybe who knows perhaps\"\n",
    "# ['will', 'bitcoin', 'take',...]\n",
    "# words = \"so long and thanks for all the fish\"\n",
    "\n",
    "find_the_shorty(words)"
   ]
  },
  {
   "cell_type": "code",
   "execution_count": 9,
   "id": "faae2e32-06d8-4161-9df0-47f55f1928f6",
   "metadata": {
    "tags": []
   },
   "outputs": [
    {
     "data": {
      "text/plain": [
       "['the', 'who']"
      ]
     },
     "execution_count": 9,
     "metadata": {},
     "output_type": "execute_result"
    }
   ],
   "source": [
    "def find_the_shorty(words):\n",
    "\n",
    "    min_length = min(len(word) for word in words.split())\n",
    "    shorty = [word for word in words.split() if len(word) == min_length]\n",
    "    return shorty\n",
    "\n",
    "words = \"Will bitcoin take over the world maybe who knows perhaps\"\n",
    "# words = \"so long and thanks for all the fish\"\n",
    "\n",
    "find_the_shorty(words)"
   ]
  }
 ],
 "metadata": {
  "kernelspec": {
   "display_name": "Python 3 (ipykernel)",
   "language": "python",
   "name": "python3"
  },
  "language_info": {
   "codemirror_mode": {
    "name": "ipython",
    "version": 3
   },
   "file_extension": ".py",
   "mimetype": "text/x-python",
   "name": "python",
   "nbconvert_exporter": "python",
   "pygments_lexer": "ipython3",
   "version": "3.11.5"
  }
 },
 "nbformat": 4,
 "nbformat_minor": 5
}
